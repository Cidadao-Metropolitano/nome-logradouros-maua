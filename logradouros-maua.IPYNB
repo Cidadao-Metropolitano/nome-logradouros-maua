{
 "cells": [
  {
   "cell_type": "code",
   "execution_count": 5,
   "metadata": {},
   "outputs": [],
   "source": [
    "import pandas as pd\n",
    "\n"
   ]
  },
  {
   "cell_type": "code",
   "execution_count": 7,
   "metadata": {},
   "outputs": [],
   "source": [
    "df = pd.read_csv('./logradouros-maua-ibge.csv', encoding='utf-8')\n",
    "df.head()"
   ]
  },
  {
   "cell_type": "code",
   "execution_count": 15,
   "metadata": {},
   "outputs": [
    {
     "data": {
      "text/html": [
       "<div>\n",
       "<style scoped>\n",
       "    .dataframe tbody tr th:only-of-type {\n",
       "        vertical-align: middle;\n",
       "    }\n",
       "\n",
       "    .dataframe tbody tr th {\n",
       "        vertical-align: top;\n",
       "    }\n",
       "\n",
       "    .dataframe thead th {\n",
       "        text-align: right;\n",
       "    }\n",
       "</style>\n",
       "<table border=\"1\" class=\"dataframe\">\n",
       "  <thead>\n",
       "    <tr style=\"text-align: right;\">\n",
       "      <th></th>\n",
       "      <th>NM_TIP_LOG</th>\n",
       "      <th>NM_TIT_LOG</th>\n",
       "      <th>NM_LOG</th>\n",
       "    </tr>\n",
       "  </thead>\n",
       "  <tbody>\n",
       "    <tr>\n",
       "      <th>0</th>\n",
       "      <td>AVENIDA</td>\n",
       "      <td>NaN</td>\n",
       "      <td>WASHINGTON LUIZ</td>\n",
       "    </tr>\n",
       "    <tr>\n",
       "      <th>1</th>\n",
       "      <td>RUA</td>\n",
       "      <td>NaN</td>\n",
       "      <td>JAHU</td>\n",
       "    </tr>\n",
       "    <tr>\n",
       "      <th>2</th>\n",
       "      <td>RUA</td>\n",
       "      <td>NaN</td>\n",
       "      <td>TEOTONIO VILELA</td>\n",
       "    </tr>\n",
       "    <tr>\n",
       "      <th>3</th>\n",
       "      <td>RUA</td>\n",
       "      <td>NaN</td>\n",
       "      <td>JOAO GIANONI</td>\n",
       "    </tr>\n",
       "    <tr>\n",
       "      <th>4</th>\n",
       "      <td>RUA</td>\n",
       "      <td>NaN</td>\n",
       "      <td>JOAO GIANONI</td>\n",
       "    </tr>\n",
       "  </tbody>\n",
       "</table>\n",
       "</div>"
      ],
      "text/plain": [
       "  NM_TIP_LOG NM_TIT_LOG           NM_LOG\n",
       "0    AVENIDA        NaN  WASHINGTON LUIZ\n",
       "1        RUA        NaN             JAHU\n",
       "2        RUA        NaN  TEOTONIO VILELA\n",
       "3        RUA        NaN     JOAO GIANONI\n",
       "4        RUA        NaN     JOAO GIANONI"
      ]
     },
     "execution_count": 15,
     "metadata": {},
     "output_type": "execute_result"
    }
   ],
   "source": [
    "dfNomes = df[['NM_TIP_LOG', 'NM_TIT_LOG', 'NM_LOG']]\n",
    "dfNomes.head()"
   ]
  },
  {
   "cell_type": "code",
   "execution_count": 16,
   "metadata": {},
   "outputs": [
    {
     "data": {
      "text/html": [
       "<div>\n",
       "<style scoped>\n",
       "    .dataframe tbody tr th:only-of-type {\n",
       "        vertical-align: middle;\n",
       "    }\n",
       "\n",
       "    .dataframe tbody tr th {\n",
       "        vertical-align: top;\n",
       "    }\n",
       "\n",
       "    .dataframe thead th {\n",
       "        text-align: right;\n",
       "    }\n",
       "</style>\n",
       "<table border=\"1\" class=\"dataframe\">\n",
       "  <thead>\n",
       "    <tr style=\"text-align: right;\">\n",
       "      <th></th>\n",
       "      <th>NM_TIP_LOG</th>\n",
       "      <th>NM_TIT_LOG</th>\n",
       "      <th>NM_LOG</th>\n",
       "    </tr>\n",
       "  </thead>\n",
       "  <tbody>\n",
       "    <tr>\n",
       "      <th>0</th>\n",
       "      <td>AVENIDA</td>\n",
       "      <td></td>\n",
       "      <td>WASHINGTON LUIZ</td>\n",
       "    </tr>\n",
       "    <tr>\n",
       "      <th>1</th>\n",
       "      <td>RUA</td>\n",
       "      <td></td>\n",
       "      <td>JAHU</td>\n",
       "    </tr>\n",
       "    <tr>\n",
       "      <th>2</th>\n",
       "      <td>RUA</td>\n",
       "      <td></td>\n",
       "      <td>TEOTONIO VILELA</td>\n",
       "    </tr>\n",
       "    <tr>\n",
       "      <th>3</th>\n",
       "      <td>RUA</td>\n",
       "      <td></td>\n",
       "      <td>JOAO GIANONI</td>\n",
       "    </tr>\n",
       "    <tr>\n",
       "      <th>4</th>\n",
       "      <td>RUA</td>\n",
       "      <td></td>\n",
       "      <td>JOAO GIANONI</td>\n",
       "    </tr>\n",
       "  </tbody>\n",
       "</table>\n",
       "</div>"
      ],
      "text/plain": [
       "  NM_TIP_LOG NM_TIT_LOG           NM_LOG\n",
       "0    AVENIDA             WASHINGTON LUIZ\n",
       "1        RUA                        JAHU\n",
       "2        RUA             TEOTONIO VILELA\n",
       "3        RUA                JOAO GIANONI\n",
       "4        RUA                JOAO GIANONI"
      ]
     },
     "execution_count": 16,
     "metadata": {},
     "output_type": "execute_result"
    }
   ],
   "source": [
    "dfNomes = dfNomes.fillna('')\n",
    "dfNomes.head()"
   ]
  },
  {
   "cell_type": "code",
   "execution_count": 19,
   "metadata": {},
   "outputs": [
    {
     "data": {
      "text/html": [
       "<div>\n",
       "<style scoped>\n",
       "    .dataframe tbody tr th:only-of-type {\n",
       "        vertical-align: middle;\n",
       "    }\n",
       "\n",
       "    .dataframe tbody tr th {\n",
       "        vertical-align: top;\n",
       "    }\n",
       "\n",
       "    .dataframe thead th {\n",
       "        text-align: right;\n",
       "    }\n",
       "</style>\n",
       "<table border=\"1\" class=\"dataframe\">\n",
       "  <thead>\n",
       "    <tr style=\"text-align: right;\">\n",
       "      <th></th>\n",
       "      <th>NM_TIP_LOG</th>\n",
       "      <th>NM_TIT_LOG</th>\n",
       "      <th>NM_LOG</th>\n",
       "      <th>LOGRA</th>\n",
       "    </tr>\n",
       "  </thead>\n",
       "  <tbody>\n",
       "    <tr>\n",
       "      <th>0</th>\n",
       "      <td>AVENIDA</td>\n",
       "      <td></td>\n",
       "      <td>WASHINGTON LUIZ</td>\n",
       "      <td>AVENIDA  WASHINGTON LUIZ</td>\n",
       "    </tr>\n",
       "    <tr>\n",
       "      <th>1</th>\n",
       "      <td>RUA</td>\n",
       "      <td></td>\n",
       "      <td>JAHU</td>\n",
       "      <td>RUA  JAHU</td>\n",
       "    </tr>\n",
       "    <tr>\n",
       "      <th>2</th>\n",
       "      <td>RUA</td>\n",
       "      <td></td>\n",
       "      <td>TEOTONIO VILELA</td>\n",
       "      <td>RUA  TEOTONIO VILELA</td>\n",
       "    </tr>\n",
       "    <tr>\n",
       "      <th>3</th>\n",
       "      <td>RUA</td>\n",
       "      <td></td>\n",
       "      <td>JOAO GIANONI</td>\n",
       "      <td>RUA  JOAO GIANONI</td>\n",
       "    </tr>\n",
       "    <tr>\n",
       "      <th>4</th>\n",
       "      <td>RUA</td>\n",
       "      <td></td>\n",
       "      <td>JOAO GIANONI</td>\n",
       "      <td>RUA  JOAO GIANONI</td>\n",
       "    </tr>\n",
       "  </tbody>\n",
       "</table>\n",
       "</div>"
      ],
      "text/plain": [
       "  NM_TIP_LOG NM_TIT_LOG           NM_LOG                     LOGRA\n",
       "0    AVENIDA             WASHINGTON LUIZ  AVENIDA  WASHINGTON LUIZ\n",
       "1        RUA                        JAHU                 RUA  JAHU\n",
       "2        RUA             TEOTONIO VILELA      RUA  TEOTONIO VILELA\n",
       "3        RUA                JOAO GIANONI         RUA  JOAO GIANONI\n",
       "4        RUA                JOAO GIANONI         RUA  JOAO GIANONI"
      ]
     },
     "execution_count": 19,
     "metadata": {},
     "output_type": "execute_result"
    }
   ],
   "source": [
    "dfNomes['LOGRA'] = dfNomes['NM_TIP_LOG'].astype(str) + ' ' + dfNomes['NM_TIT_LOG'].astype(str) + ' ' + dfNomes['NM_LOG'].astype(str)\n",
    "dfNomes.head()"
   ]
  },
  {
   "cell_type": "code",
   "execution_count": 21,
   "metadata": {},
   "outputs": [
    {
     "data": {
      "text/html": [
       "<div>\n",
       "<style scoped>\n",
       "    .dataframe tbody tr th:only-of-type {\n",
       "        vertical-align: middle;\n",
       "    }\n",
       "\n",
       "    .dataframe tbody tr th {\n",
       "        vertical-align: top;\n",
       "    }\n",
       "\n",
       "    .dataframe thead th {\n",
       "        text-align: right;\n",
       "    }\n",
       "</style>\n",
       "<table border=\"1\" class=\"dataframe\">\n",
       "  <thead>\n",
       "    <tr style=\"text-align: right;\">\n",
       "      <th></th>\n",
       "      <th>LOGRA</th>\n",
       "    </tr>\n",
       "  </thead>\n",
       "  <tbody>\n",
       "    <tr>\n",
       "      <th>0</th>\n",
       "      <td>AVENIDA  WASHINGTON LUIZ</td>\n",
       "    </tr>\n",
       "    <tr>\n",
       "      <th>1</th>\n",
       "      <td>RUA  JAHU</td>\n",
       "    </tr>\n",
       "    <tr>\n",
       "      <th>2</th>\n",
       "      <td>RUA  TEOTONIO VILELA</td>\n",
       "    </tr>\n",
       "    <tr>\n",
       "      <th>3</th>\n",
       "      <td>RUA  JOAO GIANONI</td>\n",
       "    </tr>\n",
       "    <tr>\n",
       "      <th>4</th>\n",
       "      <td>RUA  JOAO GIANONI</td>\n",
       "    </tr>\n",
       "  </tbody>\n",
       "</table>\n",
       "</div>"
      ],
      "text/plain": [
       "                      LOGRA\n",
       "0  AVENIDA  WASHINGTON LUIZ\n",
       "1                 RUA  JAHU\n",
       "2      RUA  TEOTONIO VILELA\n",
       "3         RUA  JOAO GIANONI\n",
       "4         RUA  JOAO GIANONI"
      ]
     },
     "execution_count": 21,
     "metadata": {},
     "output_type": "execute_result"
    }
   ],
   "source": [
    "dfNome = dfNomes[['LOGRA']]\n",
    "dfNome.head()"
   ]
  },
  {
   "cell_type": "code",
   "execution_count": 24,
   "metadata": {},
   "outputs": [
    {
     "data": {
      "text/html": [
       "<div>\n",
       "<style scoped>\n",
       "    .dataframe tbody tr th:only-of-type {\n",
       "        vertical-align: middle;\n",
       "    }\n",
       "\n",
       "    .dataframe tbody tr th {\n",
       "        vertical-align: top;\n",
       "    }\n",
       "\n",
       "    .dataframe thead th {\n",
       "        text-align: right;\n",
       "    }\n",
       "</style>\n",
       "<table border=\"1\" class=\"dataframe\">\n",
       "  <thead>\n",
       "    <tr style=\"text-align: right;\">\n",
       "      <th></th>\n",
       "      <th>LOGRA</th>\n",
       "    </tr>\n",
       "  </thead>\n",
       "  <tbody>\n",
       "    <tr>\n",
       "      <th>0</th>\n",
       "      <td>AVENIDA  WASHINGTON LUIZ</td>\n",
       "    </tr>\n",
       "    <tr>\n",
       "      <th>1</th>\n",
       "      <td>RUA  JAHU</td>\n",
       "    </tr>\n",
       "    <tr>\n",
       "      <th>2</th>\n",
       "      <td>RUA  TEOTONIO VILELA</td>\n",
       "    </tr>\n",
       "    <tr>\n",
       "      <th>3</th>\n",
       "      <td>RUA  JOAO GIANONI</td>\n",
       "    </tr>\n",
       "    <tr>\n",
       "      <th>4</th>\n",
       "      <td>RUA  JOAO GIANONI</td>\n",
       "    </tr>\n",
       "  </tbody>\n",
       "</table>\n",
       "</div>"
      ],
      "text/plain": [
       "                      LOGRA\n",
       "0  AVENIDA  WASHINGTON LUIZ\n",
       "1                 RUA  JAHU\n",
       "2      RUA  TEOTONIO VILELA\n",
       "3         RUA  JOAO GIANONI\n",
       "4         RUA  JOAO GIANONI"
      ]
     },
     "execution_count": 24,
     "metadata": {},
     "output_type": "execute_result"
    }
   ],
   "source": [
    "dfNome "
   ]
  },
  {
   "cell_type": "code",
   "execution_count": 31,
   "metadata": {},
   "outputs": [
    {
     "name": "stdout",
     "output_type": "stream",
     "text": [
      "A maior string tem 54 caracteres e está localizada em (1760, 'LOGRA').\n"
     ]
    }
   ],
   "source": [
    "# Cria uma nova série onde cada valor é o comprimento da string correspondente\n",
    "comprimentos = dfNome.applymap(lambda x: len(str(x)))\n",
    "\n",
    "# Encontra o valor máximo e sua localização\n",
    "max_comprimento = comprimentos.max().max()\n",
    "localizacao = comprimentos.stack().idxmax()\n",
    "\n",
    "print(f\"A maior string tem {max_comprimento} caracteres e está localizada em {localizacao}.\")\n"
   ]
  },
  {
   "cell_type": "code",
   "execution_count": 29,
   "metadata": {},
   "outputs": [
    {
     "name": "stdout",
     "output_type": "stream",
     "text": [
      "A maior string é 'RUA CAPITAO POLICIA MILITAR OLEGARIO TEIXEIRA DA COSTA'.\n"
     ]
    }
   ],
   "source": [
    "maior_string = dfNome.loc[localizacao]\n",
    "print(f\"A maior string é '{maior_string}'.\")\n"
   ]
  },
  {
   "cell_type": "code",
   "execution_count": 34,
   "metadata": {},
   "outputs": [
    {
     "name": "stdout",
     "output_type": "stream",
     "text": [
      "O comprimento da maior string na coluna é 43.\n"
     ]
    }
   ],
   "source": [
    "comprimento_maior_string = dfNomes['NM_LOG'].apply(lambda x: len(x)).max()\n",
    "\n",
    "print(f\"O comprimento da maior string na coluna é {comprimento_maior_string}.\")\n"
   ]
  },
  {
   "cell_type": "code",
   "execution_count": 38,
   "metadata": {},
   "outputs": [
    {
     "data": {
      "text/plain": [
       "NM_TIP_LOG                      RUA\n",
       "NM_TIT_LOG                         \n",
       "NM_LOG             FRANCISCO DA PAZ\n",
       "LOGRA         RUA  FRANCISCO DA PAZ\n",
       "Name: 43, dtype: object"
      ]
     },
     "execution_count": 38,
     "metadata": {},
     "output_type": "execute_result"
    }
   ],
   "source": [
    "dfNomes.iloc[43]"
   ]
  }
 ],
 "metadata": {
  "kernelspec": {
   "display_name": "sandbox",
   "language": "python",
   "name": "python3"
  },
  "language_info": {
   "codemirror_mode": {
    "name": "ipython",
    "version": 3
   },
   "file_extension": ".py",
   "mimetype": "text/x-python",
   "name": "python",
   "nbconvert_exporter": "python",
   "pygments_lexer": "ipython3",
   "version": "3.11.4"
  }
 },
 "nbformat": 4,
 "nbformat_minor": 2
}
